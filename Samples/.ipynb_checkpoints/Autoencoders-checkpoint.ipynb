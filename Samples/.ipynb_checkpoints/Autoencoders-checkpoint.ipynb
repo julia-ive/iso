{
 "cells": [
  {
   "cell_type": "code",
   "execution_count": 11,
   "metadata": {},
   "outputs": [],
   "source": [
    "import keras\n",
    "import numpy as np\n",
    "from keras.datasets import mnist\n",
    "# use Matplotlib (don't ask)\n",
    "import matplotlib.pyplot as plt"
   ]
  },
  {
   "cell_type": "markdown",
   "metadata": {},
   "source": [
    "## Baby's first Autoencoder\n",
    "\n",
    "We'll start simple, with a single fully-connected neural layer as encoder and as decoder."
   ]
  },
  {
   "cell_type": "code",
   "execution_count": 8,
   "metadata": {},
   "outputs": [],
   "source": [
    "from keras.layers import Input, Dense\n",
    "from keras.models import Model\n",
    "\n",
    "# this is the size of our encoded representations\n",
    "encoding_dim = 32  # 32 floats -> compression of factor 24.5, assuming the input is 784 floats\n",
    "\n",
    "# this is our input placeholder\n",
    "input_img = Input(shape=(784,))\n",
    "# \"encoded\" is the encoded representation of the input\n",
    "encoded = Dense(encoding_dim, activation='relu')(input_img)\n",
    "# \"decoded\" is the lossy reconstruction of the input\n",
    "decoded = Dense(784, activation='sigmoid')(encoded)\n",
    "\n",
    "# this model maps an input to its reconstruction\n",
    "autoencoder = Model(input_img, decoded)"
   ]
  },
  {
   "cell_type": "markdown",
   "metadata": {},
   "source": [
    "Let's also create a separate encoder model."
   ]
  },
  {
   "cell_type": "code",
   "execution_count": 9,
   "metadata": {},
   "outputs": [],
   "source": [
    "# this model maps an input to its encoded representation\n",
    "encoder = Model(input_img, encoded)"
   ]
  },
  {
   "cell_type": "markdown",
   "metadata": {},
   "source": [
    "We'll also make a decoder model here too."
   ]
  },
  {
   "cell_type": "code",
   "execution_count": 10,
   "metadata": {},
   "outputs": [],
   "source": [
    "# create a placeholder for an encoded (32-dimensional) input\n",
    "encoded_input = Input(shape=(encoding_dim,))\n",
    "# retrieve the last layer of the autoencoder model\n",
    "decoder_layer = autoencoder.layers[-1]\n",
    "# create the decoder model\n",
    "decoder = Model(encoded_input, decoder_layer(encoded_input))"
   ]
  },
  {
   "cell_type": "markdown",
   "metadata": {},
   "source": [
    "Now let's train our autoencoder to reconstruct MNIST digits.\n",
    "\n",
    "First, we'll configure our model to use a per-pixel binary crossentropy loss, and the Adadelta optimizer:"
   ]
  },
  {
   "cell_type": "code",
   "execution_count": 15,
   "metadata": {},
   "outputs": [],
   "source": [
    "autoencoder.compile(optimizer='adadelta', loss='binary_crossentropy')"
   ]
  },
  {
   "cell_type": "markdown",
   "metadata": {},
   "source": [
    "Let's prepare our input data. We're using MNIST digits, and we're discarding the labels (since we're only interested in encoding/decoding the input images)."
   ]
  },
  {
   "cell_type": "code",
   "execution_count": 12,
   "metadata": {},
   "outputs": [
    {
     "name": "stdout",
     "output_type": "stream",
     "text": [
      "Downloading data from https://s3.amazonaws.com/img-datasets/mnist.npz\n",
      "11493376/11490434 [==============================] - 1s 0us/step\n"
     ]
    }
   ],
   "source": [
    "(x_train, _), (x_test, _) = mnist.load_data()"
   ]
  },
  {
   "cell_type": "markdown",
   "metadata": {},
   "source": [
    "We'll normalise all the values between 0 and 1, and we'll flatten the 28x28 images into vectors of size 784 (by concatenation of the rows.)"
   ]
  },
  {
   "cell_type": "code",
   "execution_count": 17,
   "metadata": {},
   "outputs": [
    {
     "name": "stdout",
     "output_type": "stream",
     "text": [
      "(60000, 784)\n",
      "(10000, 784)\n"
     ]
    }
   ],
   "source": [
    "x_train = x_train.astype('float32') / 255.\n",
    "x_test = x_test.astype('float32') / 255.\n",
    "x_train = x_train.reshape((len(x_train), np.prod(x_train.shape[1:])))\n",
    "x_test = x_test.reshape((len(x_test), np.prod(x_test.shape[1:])))\n",
    "print (x_train.shape)\n",
    "print (x_test.shape)"
   ]
  },
  {
   "cell_type": "markdown",
   "metadata": {},
   "source": [
    "Now we'll train the autoencoder for 50 epochs."
   ]
  },
  {
   "cell_type": "code",
   "execution_count": 18,
   "metadata": {
    "scrolled": true
   },
   "outputs": [
    {
     "name": "stdout",
     "output_type": "stream",
     "text": [
      "Train on 60000 samples, validate on 10000 samples\n",
      "Epoch 1/50\n",
      "60000/60000 [==============================] - 3s 43us/step - loss: 0.3569 - val_loss: 0.2721\n",
      "Epoch 2/50\n",
      "60000/60000 [==============================] - 1s 19us/step - loss: 0.2666 - val_loss: 0.2584\n",
      "Epoch 3/50\n",
      "60000/60000 [==============================] - 1s 19us/step - loss: 0.2489 - val_loss: 0.2367\n",
      "Epoch 4/50\n",
      "60000/60000 [==============================] - 1s 19us/step - loss: 0.2271 - val_loss: 0.2159\n",
      "Epoch 5/50\n",
      "60000/60000 [==============================] - 1s 19us/step - loss: 0.2099 - val_loss: 0.2018\n",
      "Epoch 6/50\n",
      "60000/60000 [==============================] - 1s 19us/step - loss: 0.1978 - val_loss: 0.1913\n",
      "Epoch 7/50\n",
      "60000/60000 [==============================] - 1s 20us/step - loss: 0.1886 - val_loss: 0.1833\n",
      "Epoch 8/50\n",
      "60000/60000 [==============================] - 1s 18us/step - loss: 0.1815 - val_loss: 0.1771\n",
      "Epoch 9/50\n",
      "60000/60000 [==============================] - 1s 19us/step - loss: 0.1758 - val_loss: 0.1717\n",
      "Epoch 10/50\n",
      "60000/60000 [==============================] - 1s 20us/step - loss: 0.1709 - val_loss: 0.1671\n",
      "Epoch 11/50\n",
      "60000/60000 [==============================] - 1s 19us/step - loss: 0.1665 - val_loss: 0.1629\n",
      "Epoch 12/50\n",
      "60000/60000 [==============================] - 1s 19us/step - loss: 0.1625 - val_loss: 0.1591\n",
      "Epoch 13/50\n",
      "60000/60000 [==============================] - 1s 19us/step - loss: 0.1588 - val_loss: 0.1554\n",
      "Epoch 14/50\n",
      "60000/60000 [==============================] - 1s 19us/step - loss: 0.1553 - val_loss: 0.1522\n",
      "Epoch 15/50\n",
      "60000/60000 [==============================] - 1s 19us/step - loss: 0.1522 - val_loss: 0.1490\n",
      "Epoch 16/50\n",
      "60000/60000 [==============================] - 1s 19us/step - loss: 0.1492 - val_loss: 0.1462\n",
      "Epoch 17/50\n",
      "60000/60000 [==============================] - 1s 19us/step - loss: 0.1464 - val_loss: 0.1434\n",
      "Epoch 18/50\n",
      "60000/60000 [==============================] - 1s 19us/step - loss: 0.1437 - val_loss: 0.1411\n",
      "Epoch 19/50\n",
      "60000/60000 [==============================] - 1s 19us/step - loss: 0.1412 - val_loss: 0.1384\n",
      "Epoch 20/50\n",
      "60000/60000 [==============================] - 1s 19us/step - loss: 0.1389 - val_loss: 0.1361\n",
      "Epoch 21/50\n",
      "60000/60000 [==============================] - 1s 18us/step - loss: 0.1366 - val_loss: 0.1339\n",
      "Epoch 22/50\n",
      "60000/60000 [==============================] - 1s 19us/step - loss: 0.1345 - val_loss: 0.1319\n",
      "Epoch 23/50\n",
      "60000/60000 [==============================] - 1s 18us/step - loss: 0.1325 - val_loss: 0.1299\n",
      "Epoch 24/50\n",
      "60000/60000 [==============================] - 1s 19us/step - loss: 0.1307 - val_loss: 0.1280\n",
      "Epoch 25/50\n",
      "60000/60000 [==============================] - 1s 18us/step - loss: 0.1288 - val_loss: 0.1263\n",
      "Epoch 26/50\n",
      "60000/60000 [==============================] - 1s 18us/step - loss: 0.1271 - val_loss: 0.1246\n",
      "Epoch 27/50\n",
      "60000/60000 [==============================] - 1s 18us/step - loss: 0.1255 - val_loss: 0.1231\n",
      "Epoch 28/50\n",
      "60000/60000 [==============================] - 1s 18us/step - loss: 0.1239 - val_loss: 0.1215\n",
      "Epoch 29/50\n",
      "60000/60000 [==============================] - 1s 18us/step - loss: 0.1224 - val_loss: 0.1201\n",
      "Epoch 30/50\n",
      "60000/60000 [==============================] - 1s 17us/step - loss: 0.1210 - val_loss: 0.1187\n",
      "Epoch 31/50\n",
      "60000/60000 [==============================] - 1s 18us/step - loss: 0.1197 - val_loss: 0.1175\n",
      "Epoch 32/50\n",
      "60000/60000 [==============================] - 1s 18us/step - loss: 0.1185 - val_loss: 0.1162\n",
      "Epoch 33/50\n",
      "60000/60000 [==============================] - 1s 18us/step - loss: 0.1173 - val_loss: 0.1151\n",
      "Epoch 34/50\n",
      "60000/60000 [==============================] - 1s 18us/step - loss: 0.1162 - val_loss: 0.1140\n",
      "Epoch 35/50\n",
      "60000/60000 [==============================] - 1s 18us/step - loss: 0.1152 - val_loss: 0.1130\n",
      "Epoch 36/50\n",
      "60000/60000 [==============================] - 1s 18us/step - loss: 0.1142 - val_loss: 0.1121\n",
      "Epoch 37/50\n",
      "60000/60000 [==============================] - 1s 18us/step - loss: 0.1134 - val_loss: 0.1113\n",
      "Epoch 38/50\n",
      "60000/60000 [==============================] - 1s 18us/step - loss: 0.1125 - val_loss: 0.1105\n",
      "Epoch 39/50\n",
      "60000/60000 [==============================] - 1s 17us/step - loss: 0.1118 - val_loss: 0.1097\n",
      "Epoch 40/50\n",
      "60000/60000 [==============================] - 1s 17us/step - loss: 0.1111 - val_loss: 0.1091\n",
      "Epoch 41/50\n",
      "60000/60000 [==============================] - 1s 18us/step - loss: 0.1104 - val_loss: 0.1084\n",
      "Epoch 42/50\n",
      "60000/60000 [==============================] - 1s 18us/step - loss: 0.1098 - val_loss: 0.1079\n",
      "Epoch 43/50\n",
      "60000/60000 [==============================] - 1s 18us/step - loss: 0.1093 - val_loss: 0.1073\n",
      "Epoch 44/50\n",
      "60000/60000 [==============================] - 1s 17us/step - loss: 0.1087 - val_loss: 0.1068\n",
      "Epoch 45/50\n",
      "60000/60000 [==============================] - 1s 18us/step - loss: 0.1082 - val_loss: 0.1063\n",
      "Epoch 46/50\n",
      "60000/60000 [==============================] - 1s 17us/step - loss: 0.1078 - val_loss: 0.1059\n",
      "Epoch 47/50\n",
      "60000/60000 [==============================] - 1s 17us/step - loss: 0.1074 - val_loss: 0.1055\n",
      "Epoch 48/50\n",
      "60000/60000 [==============================] - 1s 16us/step - loss: 0.1070 - val_loss: 0.1051\n",
      "Epoch 49/50\n",
      "60000/60000 [==============================] - 1s 17us/step - loss: 0.1066 - val_loss: 0.1048\n",
      "Epoch 50/50\n",
      "60000/60000 [==============================] - 1s 17us/step - loss: 0.1063 - val_loss: 0.1044\n"
     ]
    },
    {
     "data": {
      "text/plain": [
       "<keras.callbacks.History at 0x7f1c1304ca90>"
      ]
     },
     "execution_count": 18,
     "metadata": {},
     "output_type": "execute_result"
    }
   ],
   "source": [
    "autoencoder.fit(x_train, x_train,\n",
    "                epochs=50,\n",
    "                batch_size=256,\n",
    "                shuffle=True,\n",
    "                validation_data=(x_test, x_test))"
   ]
  },
  {
   "cell_type": "markdown",
   "metadata": {},
   "source": [
    "After 50 epochs, the autoencoder seems to reach a stable train/test loss value of about 0.11. We can try to visualize the reconstructed inputs and the encoded representations. We will use Matplotlib."
   ]
  },
  {
   "cell_type": "code",
   "execution_count": 19,
   "metadata": {},
   "outputs": [],
   "source": [
    "# encode and decode some digits\n",
    "# note that we take them from the *test* set\n",
    "encoded_imgs = encoder.predict(x_test)\n",
    "decoded_imgs = decoder.predict(encoded_imgs)"
   ]
  },
  {
   "cell_type": "code",
   "execution_count": 22,
   "metadata": {},
   "outputs": [
    {
     "data": {
      "image/png": "[encoded data removed]",
      "text/plain": [
       "<Figure size 1440x288 with 20 Axes>"
      ]
     },
     "metadata": {},
     "output_type": "display_data"
    }
   ],
   "source": [
    "n = 10  # how many digits we will display\n",
    "plt.figure(figsize=(20, 4))\n",
    "for i in range(n):\n",
    "    # display original\n",
    "    ax = plt.subplot(2, n, i + 1)\n",
    "    plt.imshow(x_test[i].reshape(28, 28))\n",
    "    plt.gray()\n",
    "    ax.get_xaxis().set_visible(False)\n",
    "    ax.get_yaxis().set_visible(False)\n",
    "\n",
    "    # display reconstruction\n",
    "    ax = plt.subplot(2, n, i + 1 + n)\n",
    "    plt.imshow(decoded_imgs[i].reshape(28, 28))\n",
    "    plt.gray()\n",
    "    ax.get_xaxis().set_visible(False)\n",
    "    ax.get_yaxis().set_visible(False)\n",
    "plt.show()"
   ]
  },
  {
   "cell_type": "markdown",
   "metadata": {},
   "source": [
    "## Adding a Sparsity Constraint on encoded representations\n",
    "\n",
    "In the previous example, the representations were only constrained by the size of the hidden layer (32). In such a situation, what typically happens is that the hidden layer is learning an approximation of PCA (principal component analysis). But another way to constrain the representations to be compact is to add a sparsity contraint on the activity of the hidden representations, so fewer units would \"fire\" at a given time. In Keras, this can be done by adding an `activity_regularizer` to our Dense layer:"
   ]
  },
  {
   "cell_type": "code",
   "execution_count": null,
   "metadata": {},
   "outputs": [],
   "source": [
    "from keras import regularizers\n",
    "\n",
    "encoding_dim = 32\n",
    "\n",
    "input_img = Input(shape=(784,))\n",
    "# add a Dense layer with a L1 activity regularizer\n",
    "encoded = Dense(encoding_dim, activation='relu',\n",
    "                activity_regularizer=regularizers.l1(10e-5))(input_img)\n",
    "decoded = Dense(784, activation='sigmoid')(encoded)\n",
    "\n",
    "# this model maps an input to its encoded representation\n",
    "autoencoder = Model(input_img, decoded)\n",
    "\n",
    "\n",
    "encoder = Model(input_img, encoded)\n",
    "encoded_input = Input(shape=(encoding_dim,))\n",
    "decoder_layer = autoencoder.layers[-1]\n",
    "decoder = Model(encoded_input, decoder_layer(encoded_input))"
   ]
  },
  {
   "cell_type": "markdown",
   "metadata": {},
   "source": [
    "We'll train this model for 100 epochs with the regulariser included. This will make the model less prone to overfitting; it can also be trained for longer. We'll visualise the results while we're at it."
   ]
  },
  {
   "cell_type": "code",
   "execution_count": null,
   "metadata": {
    "scrolled": true
   },
   "outputs": [],
   "source": [
    "autoencoder.compile(optimizer='adadelta', loss='binary_crossentropy')\n",
    "autoencoder.fit(x_train, x_train,\n",
    "                epochs=100,\n",
    "                batch_size=256,\n",
    "                shuffle=True,\n",
    "                validation_data=(x_test, x_test))"
   ]
  },
  {
   "cell_type": "code",
   "execution_count": null,
   "metadata": {},
   "outputs": [],
   "source": [
    "# encode and decode some digits\n",
    "# note that we take them from the *test* set\n",
    "encoded_imgs = encoder.predict(x_test)\n",
    "decoded_imgs = decoder.predict(encoded_imgs)\n",
    "n = 10  # how many digits we will display\n",
    "plt.figure(figsize=(20, 4))\n",
    "for i in range(n):\n",
    "    # display original\n",
    "    ax = plt.subplot(2, n, i + 1)\n",
    "    plt.imshow(x_test[i].reshape(28, 28))\n",
    "    plt.gray()\n",
    "    ax.get_xaxis().set_visible(False)\n",
    "    ax.get_yaxis().set_visible(False)\n",
    "\n",
    "    # display reconstruction\n",
    "    ax = plt.subplot(2, n, i + 1 + n)\n",
    "    plt.imshow(decoded_imgs[i].reshape(28, 28))\n",
    "    plt.gray()\n",
    "    ax.get_xaxis().set_visible(False)\n",
    "    ax.get_yaxis().set_visible(False)\n",
    "plt.show()"
   ]
  },
  {
   "cell_type": "markdown",
   "metadata": {},
   "source": [
    "It should look similar to the previous model, but the difference should be in the sparsity of the encoded representations."
   ]
  },
  {
   "cell_type": "code",
   "execution_count": 46,
   "metadata": {},
   "outputs": [
    {
     "data": {
      "text/plain": [
       "0.19487739"
      ]
     },
     "execution_count": 46,
     "metadata": {},
     "output_type": "execute_result"
    }
   ],
   "source": [
    "encoded_imgs.mean()"
   ]
  },
  {
   "cell_type": "markdown",
   "metadata": {},
   "source": [
    "## Deep Autoencoders\n",
    "\n",
    "We do not have to limit ourselves to a single layer as encoder or decoder, we could instead use a stack of layers, such as:"
   ]
  },
  {
   "cell_type": "code",
   "execution_count": null,
   "metadata": {
    "scrolled": true
   },
   "outputs": [
    {
     "name": "stdout",
     "output_type": "stream",
     "text": [
      "Train on 60000 samples, validate on 10000 samples\n",
      "Epoch 1/100\n",
      "60000/60000 [==============================] - 2s 37us/step - loss: 0.3681 - val_loss: 0.2644\n",
      "Epoch 2/100\n",
      "60000/60000 [==============================] - 2s 30us/step - loss: 0.2595 - val_loss: 0.2561\n",
      "Epoch 3/100\n",
      "60000/60000 [==============================] - 2s 30us/step - loss: 0.2505 - val_loss: 0.2433\n",
      "Epoch 4/100\n",
      "60000/60000 [==============================] - 2s 29us/step - loss: 0.2331 - val_loss: 0.2238\n",
      "Epoch 5/100\n",
      "60000/60000 [==============================] - 2s 29us/step - loss: 0.2161 - val_loss: 0.2069\n",
      "Epoch 6/100\n",
      "60000/60000 [==============================] - 2s 30us/step - loss: 0.2015 - val_loss: 0.1934\n",
      "Epoch 7/100\n",
      "60000/60000 [==============================] - 2s 30us/step - loss: 0.1884 - val_loss: 0.1828\n",
      "Epoch 8/100\n",
      "60000/60000 [==============================] - 2s 30us/step - loss: 0.1805 - val_loss: 0.1767\n",
      "Epoch 9/100\n",
      "60000/60000 [==============================] - 2s 29us/step - loss: 0.1752 - val_loss: 0.1716\n",
      "Epoch 10/100\n",
      "60000/60000 [==============================] - 2s 30us/step - loss: 0.1701 - val_loss: 0.1650\n",
      "Epoch 11/100\n",
      "60000/60000 [==============================] - 2s 30us/step - loss: 0.1650 - val_loss: 0.1614\n",
      "Epoch 12/100\n",
      "60000/60000 [==============================] - 2s 28us/step - loss: 0.1607 - val_loss: 0.1585\n",
      "Epoch 13/100\n",
      "60000/60000 [==============================] - 2s 29us/step - loss: 0.1569 - val_loss: 0.1517\n",
      "Epoch 14/100\n",
      "60000/60000 [==============================] - 2s 29us/step - loss: 0.1531 - val_loss: 0.1494\n",
      "Epoch 15/100\n",
      "60000/60000 [==============================] - 2s 30us/step - loss: 0.1499 - val_loss: 0.1490\n",
      "Epoch 16/100\n",
      "60000/60000 [==============================] - 2s 29us/step - loss: 0.1471 - val_loss: 0.1443\n",
      "Epoch 17/100\n",
      "60000/60000 [==============================] - 2s 29us/step - loss: 0.1447 - val_loss: 0.1410\n",
      "Epoch 18/100\n",
      "60000/60000 [==============================] - 2s 30us/step - loss: 0.1426 - val_loss: 0.1410\n",
      "Epoch 19/100\n",
      "60000/60000 [==============================] - 2s 31us/step - loss: 0.1407 - val_loss: 0.1391\n",
      "Epoch 20/100\n",
      "60000/60000 [==============================] - 2s 29us/step - loss: 0.1389 - val_loss: 0.1351\n",
      "Epoch 21/100\n",
      "60000/60000 [==============================] - 2s 30us/step - loss: 0.1369 - val_loss: 0.1345\n",
      "Epoch 22/100\n",
      "60000/60000 [==============================] - 2s 30us/step - loss: 0.1354 - val_loss: 0.1327\n",
      "Epoch 23/100\n",
      "60000/60000 [==============================] - 2s 29us/step - loss: 0.1336 - val_loss: 0.1323\n",
      "Epoch 24/100\n",
      "60000/60000 [==============================] - 2s 30us/step - loss: 0.1322 - val_loss: 0.1303\n",
      "Epoch 25/100\n",
      "60000/60000 [==============================] - 2s 30us/step - loss: 0.1308 - val_loss: 0.1300\n",
      "Epoch 26/100\n",
      "60000/60000 [==============================] - 2s 30us/step - loss: 0.1296 - val_loss: 0.1294\n",
      "Epoch 27/100\n",
      "60000/60000 [==============================] - 2s 29us/step - loss: 0.1286 - val_loss: 0.1259\n",
      "Epoch 28/100\n",
      "60000/60000 [==============================] - 2s 29us/step - loss: 0.1272 - val_loss: 0.1270\n",
      "Epoch 29/100\n",
      "60000/60000 [==============================] - 2s 30us/step - loss: 0.1262 - val_loss: 0.1246\n",
      "Epoch 30/100\n",
      "60000/60000 [==============================] - 2s 30us/step - loss: 0.1255 - val_loss: 0.1241\n",
      "Epoch 31/100\n",
      "60000/60000 [==============================] - 2s 29us/step - loss: 0.1245 - val_loss: 0.1235\n",
      "Epoch 32/100\n",
      "60000/60000 [==============================] - 2s 29us/step - loss: 0.1238 - val_loss: 0.1212\n",
      "Epoch 33/100\n",
      "60000/60000 [==============================] - 2s 30us/step - loss: 0.1230 - val_loss: 0.1227\n",
      "Epoch 34/100\n",
      "60000/60000 [==============================] - 2s 30us/step - loss: 0.1222 - val_loss: 0.1206\n",
      "Epoch 35/100\n",
      "60000/60000 [==============================] - 2s 30us/step - loss: 0.1216 - val_loss: 0.1192\n",
      "Epoch 36/100\n",
      "60000/60000 [==============================] - 2s 30us/step - loss: 0.1208 - val_loss: 0.1198\n",
      "Epoch 37/100\n",
      "60000/60000 [==============================] - 2s 30us/step - loss: 0.1200 - val_loss: 0.1174\n",
      "Epoch 38/100\n",
      "60000/60000 [==============================] - 2s 29us/step - loss: 0.1193 - val_loss: 0.1167\n",
      "Epoch 39/100\n",
      "60000/60000 [==============================] - 2s 31us/step - loss: 0.1185 - val_loss: 0.1172\n",
      "Epoch 40/100\n",
      "60000/60000 [==============================] - 2s 30us/step - loss: 0.1177 - val_loss: 0.1151\n",
      "Epoch 41/100\n",
      "60000/60000 [==============================] - 2s 30us/step - loss: 0.1170 - val_loss: 0.1158\n",
      "Epoch 42/100\n",
      "60000/60000 [==============================] - 2s 29us/step - loss: 0.1163 - val_loss: 0.1149\n",
      "Epoch 43/100\n",
      "60000/60000 [==============================] - 2s 30us/step - loss: 0.1157 - val_loss: 0.1138\n",
      "Epoch 44/100\n",
      "60000/60000 [==============================] - 2s 31us/step - loss: 0.1151 - val_loss: 0.1129\n",
      "Epoch 45/100\n",
      "60000/60000 [==============================] - 2s 29us/step - loss: 0.1144 - val_loss: 0.1127\n",
      "Epoch 46/100\n",
      "60000/60000 [==============================] - 2s 28us/step - loss: 0.1138 - val_loss: 0.1115\n",
      "Epoch 47/100\n",
      "60000/60000 [==============================] - 2s 30us/step - loss: 0.1133 - val_loss: 0.1102\n",
      "Epoch 48/100\n",
      "60000/60000 [==============================] - 2s 31us/step - loss: 0.1127 - val_loss: 0.1116\n",
      "Epoch 49/100\n",
      "60000/60000 [==============================] - 2s 30us/step - loss: 0.1122 - val_loss: 0.1108\n",
      "Epoch 50/100\n",
      "60000/60000 [==============================] - 2s 30us/step - loss: 0.1119 - val_loss: 0.1093\n",
      "Epoch 51/100\n",
      "60000/60000 [==============================] - 2s 29us/step - loss: 0.1113 - val_loss: 0.1106\n",
      "Epoch 52/100\n",
      "60000/60000 [==============================] - 2s 29us/step - loss: 0.1110 - val_loss: 0.1086\n",
      "Epoch 53/100\n",
      "60000/60000 [==============================] - 2s 30us/step - loss: 0.1105 - val_loss: 0.1083\n",
      "Epoch 54/100\n",
      "60000/60000 [==============================] - 2s 29us/step - loss: 0.1102 - val_loss: 0.1075\n",
      "Epoch 55/100\n",
      "60000/60000 [==============================] - 2s 29us/step - loss: 0.1097 - val_loss: 0.1102\n",
      "Epoch 56/100\n",
      "60000/60000 [==============================] - 2s 30us/step - loss: 0.1094 - val_loss: 0.1073\n",
      "Epoch 57/100\n",
      "60000/60000 [==============================] - 2s 29us/step - loss: 0.1090 - val_loss: 0.1076\n",
      "Epoch 58/100\n",
      "60000/60000 [==============================] - 2s 30us/step - loss: 0.1087 - val_loss: 0.1074\n",
      "Epoch 59/100\n",
      "60000/60000 [==============================] - 2s 29us/step - loss: 0.1083 - val_loss: 0.1066\n",
      "Epoch 60/100\n",
      "60000/60000 [==============================] - 2s 30us/step - loss: 0.1080 - val_loss: 0.1070\n",
      "Epoch 61/100\n",
      "60000/60000 [==============================] - 2s 30us/step - loss: 0.1076 - val_loss: 0.1088\n",
      "Epoch 62/100\n",
      "60000/60000 [==============================] - 2s 30us/step - loss: 0.1073 - val_loss: 0.1056\n",
      "Epoch 63/100\n",
      "60000/60000 [==============================] - 2s 30us/step - loss: 0.1070 - val_loss: 0.1044\n",
      "Epoch 64/100\n",
      "60000/60000 [==============================] - 2s 29us/step - loss: 0.1066 - val_loss: 0.1057\n",
      "Epoch 65/100\n",
      "60000/60000 [==============================] - 2s 30us/step - loss: 0.1063 - val_loss: 0.1070\n",
      "Epoch 66/100\n",
      "60000/60000 [==============================] - 2s 30us/step - loss: 0.1060 - val_loss: 0.1062\n",
      "Epoch 67/100\n",
      "60000/60000 [==============================] - 2s 29us/step - loss: 0.1057 - val_loss: 0.1050\n",
      "Epoch 68/100\n",
      "60000/60000 [==============================] - 2s 30us/step - loss: 0.1055 - val_loss: 0.1037\n",
      "Epoch 69/100\n",
      "60000/60000 [==============================] - 2s 30us/step - loss: 0.1052 - val_loss: 0.1037\n",
      "Epoch 70/100\n",
      "60000/60000 [==============================] - 2s 29us/step - loss: 0.1048 - val_loss: 0.1040\n",
      "Epoch 71/100\n",
      "60000/60000 [==============================] - 2s 30us/step - loss: 0.1045 - val_loss: 0.1021\n"
     ]
    }
   ],
   "source": [
    "input_img = Input(shape=(784,))\n",
    "encoded = Dense(128, activation='relu')(input_img)\n",
    "encoded = Dense(64, activation='relu')(encoded)\n",
    "encoded = Dense(32, activation='relu')(encoded)\n",
    "\n",
    "decoded = Dense(64, activation='relu')(encoded)\n",
    "decoded = Dense(128, activation='relu')(decoded)\n",
    "decoded = Dense(784, activation='sigmoid')(decoded)\n",
    "\n",
    "autoencoder = Model(input_img, decoded)\n",
    "autoencoder.compile(optimizer='adadelta', loss='binary_crossentropy')\n",
    "\n",
    "autoencoder.fit(x_train, x_train,\n",
    "                epochs=100,\n",
    "                batch_size=256,\n",
    "                shuffle=True,\n",
    "                validation_data=(x_test, x_test))"
   ]
  },
  {
   "cell_type": "markdown",
   "metadata": {},
   "source": [
    "After 100 epochs, it reaches a train and test loss of ~0.097, a bit better than our previous models. Our reconstructed digits look a bit better too:"
   ]
  },
  {
   "cell_type": "code",
   "execution_count": null,
   "metadata": {},
   "outputs": [],
   "source": []
  }
 ],
 "metadata": {
  "kernelspec": {
   "display_name": "Python 3",
   "language": "python",
   "name": "python3"
  },
  "language_info": {
   "codemirror_mode": {
    "name": "ipython",
    "version": 3
   },
   "file_extension": ".py",
   "mimetype": "text/x-python",
   "name": "python",
   "nbconvert_exporter": "python",
   "pygments_lexer": "ipython3",
   "version": "3.5.2"
  }
 },
 "nbformat": 4,
 "nbformat_minor": 2
}
